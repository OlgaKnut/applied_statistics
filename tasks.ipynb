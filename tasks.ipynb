{
 "cells": [
  {
   "cell_type": "markdown",
   "metadata": {},
   "source": [
    "#### Task 1:Permutations and Combinations \n",
    " Suppose we alter the Lady Tasting Tea experiment to involve twelve cups of tea. Six have the milk in first and the other six having tea in first. A person claims they have the special power of being able to tell whether the tea or the milk went into a cup first upon tasting it. You agree to accept their claim if they can tell which of the six cups in your experiment had the milk in first.\n"
   ]
  },
  {
   "cell_type": "markdown",
   "metadata": {},
   "source": [
    " Calculate, using Python, the probability that they select the correct six cups. Here you should assume that they have no special powers in figuring it out, that they are just guessing. \n"
   ]
  },
  {
   "cell_type": "code",
   "execution_count": 188,
   "metadata": {},
   "outputs": [
    {
     "data": {
      "text/plain": [
       "924"
      ]
     },
     "execution_count": 188,
     "metadata": {},
     "output_type": "execute_result"
    }
   ],
   "source": [
    "# Mathematical functions from the standard library.\n",
    "# https://docs.python.org/3/library/math.html\n",
    "import math\n",
    "\n",
    "# Permutations and combinations.\n",
    "# https://docs.python.org/3/library/itertools.html\n",
    "import itertools\n",
    "\n",
    "# Random selections.\n",
    "# https://docs.python.org/3/library/random.html\n",
    "import random\n",
    "\n",
    "# Numerical structures and operations.\n",
    "# https://numpy.org/doc/stable/reference/index.html#reference\n",
    "import numpy as np\n",
    "\n",
    "# Plotting.\n",
    "# https://matplotlib.org/stable/contents.html\n",
    "import matplotlib.pyplot as plt\n",
    "\n",
    "# Number of cups of tea in total.\n",
    "no_cups = 12\n",
    "\n",
    "# Number of cups of tea with milk in first.\n",
    "no_cups_milk_first = 6\n",
    "\n",
    "# Number of cups of tea with tea in first.\n",
    "no_cups_tea_first = 6\n",
    "\n",
    "# Number of ways of selecting four cups from eight.\n",
    "ways = math.comb(no_cups, no_cups_milk_first)\n",
    "\n",
    "# Show.\n",
    "ways"
   ]
  },
  {
   "cell_type": "code",
   "execution_count": 189,
   "metadata": {},
   "outputs": [
    {
     "data": {
      "text/plain": [
       "0.0010822510822510823"
      ]
     },
     "execution_count": 189,
     "metadata": {},
     "output_type": "execute_result"
    }
   ],
   "source": [
    "# The probability that they (randomly) selects the 6 correct cups.\n",
    "1 / 924"
   ]
  },
  {
   "cell_type": "markdown",
   "metadata": {},
   "source": [
    " Suppose, now, you are willing to accept one error. Once they select the six cups they think had the milk in first, you will give them the benefit of the doubt should they have selected at least five of the correct cups. Calculate the probability, assuming they have no special powers, that the person makes at most one error.\n"
   ]
  },
  {
   "cell_type": "code",
   "execution_count": 190,
   "metadata": {},
   "outputs": [
    {
     "data": {
      "text/plain": [
       "924"
      ]
     },
     "execution_count": 190,
     "metadata": {},
     "output_type": "execute_result"
    }
   ],
   "source": [
    "# Number of cups of tea in total.\n",
    "n = 12\n",
    "# Number of cups of tea with milk in first.\n",
    "k = 6\n",
    "# 12 factorial.\n",
    "math.factorial(n)\n",
    "# 6 factorial.\n",
    "math.factorial(n - k)\n",
    "# No of ways of selecting k objects from n without replacement and without order.\n",
    "math.factorial(n) // (math.factorial(k) * math.factorial(n - k))\n",
    "\n",
    "\n",
    "\n"
   ]
  },
  {
   "cell_type": "code",
   "execution_count": 191,
   "metadata": {},
   "outputs": [
    {
     "data": {
      "text/plain": [
       "[0, 1, 2, 3, 4, 5, 6, 7, 8, 9, 10, 11]"
      ]
     },
     "execution_count": 191,
     "metadata": {},
     "output_type": "execute_result"
    }
   ],
   "source": [
    "# The cup labels.\n",
    "labels = list(range(no_cups))\n",
    "\n",
    "# Show.\n",
    "labels"
   ]
  },
  {
   "cell_type": "code",
   "execution_count": 192,
   "metadata": {},
   "outputs": [
    {
     "data": {
      "text/plain": [
       "[0, 2, 3, 7, 10, 11]"
      ]
     },
     "execution_count": 192,
     "metadata": {},
     "output_type": "execute_result"
    }
   ],
   "source": [
    "# Show the different ways of selecting no_cups_milk_first out of no_cups cups of tea.\n",
    "combs = list(itertools.combinations(labels, no_cups_milk_first))\n",
    "\n",
    "# Show.\n",
    "#combs\n",
    "\n",
    "# Number of combinations.\n",
    "len(combs)\n",
    "\n",
    "# Select four cups at random to put milk in first.\n",
    "# https://docs.python.org/3/library/random.html#random.sample\n",
    "labels_milk = random.sample(labels, 6)\n",
    "\n",
    "# Sort, inplace.\n",
    "labels_milk.sort()\n",
    "\n",
    "# Show.\n",
    "labels_milk\n",
    "\n"
   ]
  },
  {
   "cell_type": "code",
   "execution_count": 193,
   "metadata": {},
   "outputs": [
    {
     "data": {
      "text/plain": [
       "{0, 2, 3, 7, 10, 11}"
      ]
     },
     "execution_count": 193,
     "metadata": {},
     "output_type": "execute_result"
    }
   ],
   "source": [
    "# Turn labels_milk into a set.\n",
    "# Uses: https://docs.python.org/3/tutorial/datastructures.html#sets\n",
    "set(labels_milk)"
   ]
  },
  {
   "cell_type": "code",
   "execution_count": 194,
   "metadata": {},
   "outputs": [],
   "source": [
    "# Calculate the overlap between each element of combs and labels_milk.\n",
    "\n",
    "no_overlaps = []\n",
    "\n",
    "for comb in combs:\n",
    "  # Turn comb into a set.\n",
    "  s1 = set(comb)\n",
    "  # Turn labels_milk into a set.\n",
    "  s2 = set(labels_milk)\n",
    "  # Figure out where they overlap.\n",
    "  overlap = s1.intersection(s2)\n",
    "  # Show the combination and the overlap.\n",
    "  #print(comb, overlap, len(overlap))\n",
    "  # Append overlap to no_overlaps.\n",
    "  no_overlaps.append(len(overlap))"
   ]
  },
  {
   "cell_type": "code",
   "execution_count": 195,
   "metadata": {},
   "outputs": [
    {
     "data": {
      "text/plain": [
       "(array([0, 1, 2, 3, 4, 5, 6]),\n",
       " array([  1,  36, 225, 400, 225,  36,   1], dtype=int64))"
      ]
     },
     "execution_count": 195,
     "metadata": {},
     "output_type": "execute_result"
    }
   ],
   "source": [
    "# Count the number of times each overlap occurs.\n",
    "counts = np.unique(no_overlaps, return_counts=True)\n",
    "\n",
    "# Show.\n",
    "counts"
   ]
  },
  {
   "cell_type": "code",
   "execution_count": 196,
   "metadata": {},
   "outputs": [
    {
     "data": {
      "image/png": "[encoded data removed]",
      "text/plain": [
       "<Figure size 600x400 with 1 Axes>"
      ]
     },
     "metadata": {},
     "output_type": "display_data"
    }
   ],
   "source": [
    "# Create a figure.\n",
    "fig, ax = plt.subplots(figsize=(6, 4))\n",
    "\n",
    "# Bar chart.\n",
    "ax.bar(counts[0], counts[1]);\n"
   ]
  },
  {
   "cell_type": "code",
   "execution_count": 197,
   "metadata": {},
   "outputs": [
    {
     "data": {
      "text/plain": [
       "0.04004329004329004"
      ]
     },
     "execution_count": 197,
     "metadata": {},
     "output_type": "execute_result"
    }
   ],
   "source": [
    "# The probability that they (randomly) selects at least 5 correct cups.\n",
    "(36 + 1) / 924"
   ]
  },
  {
   "cell_type": "markdown",
   "metadata": {},
   "source": [
    " Would you accept two errors? Explain."
   ]
  },
  {
   "cell_type": "code",
   "execution_count": 198,
   "metadata": {},
   "outputs": [
    {
     "data": {
      "text/plain": [
       "0.28354978354978355"
      ]
     },
     "execution_count": 198,
     "metadata": {},
     "output_type": "execute_result"
    }
   ],
   "source": [
    "# The probability that they (randomly) selects at least 4 correct cups.\n",
    "(225 + 36 + 1) / 924"
   ]
  },
  {
   "cell_type": "markdown",
   "metadata": {},
   "source": [
    "\n",
    " Probability of selecting all 6 correct cups: 0.0010822510822510823 (≈ 0.11%).\n",
    "\n",
    " Probability of selecting at most one error (5 or 6 correct): 0.04004329004329004 (≈ 4.00%).\n",
    " \n",
    " Probability of selecting at most two errors (4, 5 or 6 correct): 0.28354978354978355 (≈ 28.00%)."
   ]
  },
  {
   "cell_type": "markdown",
   "metadata": {},
   "source": [
    "##### Conclusion:\n",
    " If we accept at most one error (5 or 6 correct cups), the person has about a 4% chance of succeeding by random guessing. If you accept two errors (4 and more correct cups), the probability jumps to 28%. This makes it much more likely that the person could sicceed by random guessing. We will not accept two errors if we what to establish ability to tell the diffrence between \"milk first\" and \"tea first\" cups."
   ]
  },
  {
   "cell_type": "markdown",
   "metadata": {},
   "source": [
    "#### Task 2: numpy's Normal Distribution ####\n",
    "In this task you will assess whether numpy.random.normal() properly generates normal values. To begin, generate a sample of one hundred thousand values using the function with mean 10.0 and standard deviation 3.0.\n",
    "\n",
    "Use the scipy.stats.shapiro() function to test whether your sample came from a normal distribution. Explain the results and output.\n",
    "\n",
    "Plot a histogram of your values and plot the corresponding normal distribution probability density function on top of it."
   ]
  },
  {
   "cell_type": "markdown",
   "metadata": {},
   "source": [
    "#### Task 3: t-Test Calculation ####\n",
    "Consider the following dataset containing resting heart rates for patients before and after embarking on a two-week exercise program.\n",
    "\n",
    "Patient ID\t0\t1\t2\t3\t4\t5\t6\t7\t8\t9\n",
    "Before\t63\t68\t70\t64\t74\t67\t70\t57\t66\t65\n",
    "After\t64\t64\t68\t64\t73\t70\t72\t54\t61\t63\n",
    "Calculate the t-statistic based on this data set, using Python. Compare it to the value given by scipy.stats. Explain your work and list any sources used."
   ]
  },
  {
   "cell_type": "markdown",
   "metadata": {},
   "source": [
    "#### Task 4: ANOVA ####\n",
    "In this test we will estimate the probability of committing a type II error in specific circumstances. To begin, create a variable called no_type_ii and set it to 0.\n",
    "\n",
    "Now use a loop to perform the following test 10,000 times.\n",
    "\n",
    "Use numpy.random.normal to generate three samples with 100 values each. Give each a standard deviation of 0.1. Give the first sample a mean of 4.9, the second a mean of 5.0, and the third a mean of 5.1.\n",
    "\n",
    "Perform one-way anova on the three samples and add 1 to no_type_ii whenever a type II error occurs.\n",
    "\n",
    "Summarize and explain your results."
   ]
  }
 ],
 "metadata": {
  "kernelspec": {
   "display_name": "base",
   "language": "python",
   "name": "python3"
  },
  "language_info": {
   "codemirror_mode": {
    "name": "ipython",
    "version": 3
   },
   "file_extension": ".py",
   "mimetype": "text/x-python",
   "name": "python",
   "nbconvert_exporter": "python",
   "pygments_lexer": "ipython3",
   "version": "3.9.13"
  }
 },
 "nbformat": 4,
 "nbformat_minor": 2
}

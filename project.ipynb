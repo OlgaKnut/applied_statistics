{
 "cells": [
  {
   "cell_type": "markdown",
   "metadata": {},
   "source": [
    "### Project: Analysis of the PlantGrowth R dataset "
   ]
  },
  {
   "cell_type": "code",
   "execution_count": null,
   "metadata": {},
   "outputs": [],
   "source": [
    "# Import necessary libraries\n",
    "\n",
    "# Data analysis and manipulation\n",
    "# https://pandas.pydata.org/docs/user_guide/index.html\n",
    "import pandas as pd\n",
    "\n",
    "# Mathematical functions from the standard library.\n",
    "# https://docs.python.org/3/library/math.html\n",
    "import math\n",
    "\n",
    "# Permutations and combinations.\n",
    "# https://docs.python.org/3/library/itertools.html\n",
    "import itertools\n",
    "\n",
    "# Numerical structures and operations.\n",
    "# https://numpy.org/doc/stable/reference/index.html#reference\n",
    "import numpy as np\n",
    "\n",
    "# Plotting.\n",
    "# https://matplotlib.org/stable/contents.html\n",
    "import matplotlib.pyplot as plt\n",
    "\n",
    "# Statistical tests\n",
    "# https://docs.scipy.org/doc/scipy/reference/stats.html\n",
    "import scipy.stats as stats\n",
    "\n",
    "# Statistical data visualization.\n",
    "# https://seaborn.pydata.org/#seaborn-statistical-data-visualization\n",
    "import seaborn as sns"
   ]
  },
  {
   "cell_type": "markdown",
   "metadata": {},
   "source": [
    "#### 1. Load and read the dataset."
   ]
  },
  {
   "cell_type": "code",
   "execution_count": null,
   "metadata": {},
   "outputs": [],
   "source": [
    "# Load the dataset from URL\n",
    "url = \"PlantGrowth.csv\"\n",
    "data = pd.read_csv(url)\n",
    "\n",
    "# Display the first few rows of the dataset\n",
    "data.head()"
   ]
  },
  {
   "cell_type": "code",
   "execution_count": null,
   "metadata": {},
   "outputs": [],
   "source": [
    "# Get basic information about the dataset\n",
    "data.info()"
   ]
  },
  {
   "cell_type": "markdown",
   "metadata": {},
   "source": [
    "#### 2. Describe the data set."
   ]
  },
  {
   "cell_type": "markdown",
   "metadata": {},
   "source": [
    "This dataset consists of 30 observations with three columns:  \n",
    "Description of Columns\n",
    "- rownames: Identifiers for each row, sequentially numbered from 1 to 30.\n",
    "This serves as a unique index for each observation.\n",
    "- weight: A continuous numerical variable that represents the measured weights.  \n",
    "Values range approximately from 3.59 to 6.31.\n",
    "- group: A categorical variable representing the group membership of each observation.\n",
    "There are three groups:\n",
    "ctrl: Control group\n",
    "trt1: Treatment group 1\n",
    "trt2: Treatment group 2\n",
    "Each group has 10 observations.\n",
    "\n",
    "Dataset Breakdown\n",
    "Group \"ctrl\" (Control): Rows 1–10, with weights ranging from 4.17 to 6.11.\n",
    "Group \"trt1\" (Treatment 1): Rows 11–20, with weights ranging from 3.59 to 6.03.\n",
    "Group \"trt2\" (Treatment 2): Rows 21–30, with weights ranging from 4.92 to 6.31.\n",
    "Summary\n",
    "This dataset is suitable for comparing weights across the three groups (control and two treatments). It can be analyzed using statistical methods such as:\n",
    "\n",
    "Descriptive statistics (mean, standard deviation) for each group.\n",
    "Visualization: Boxplots or histograms to compare weight distributions.\n",
    "Inferential statistics:\n",
    "ANOVA (to test for overall differences among groups).\n",
    "Post-hoc tests (if ANOVA shows significant differences)."
   ]
  },
  {
   "cell_type": "code",
   "execution_count": null,
   "metadata": {},
   "outputs": [],
   "source": [
    "\n",
    "\n",
    "# Creating a figure with multiple plots\n",
    "fig, axes = plt.subplots(1, 3, figsize=(18, 5))\n",
    "\n",
    "# Boxplot\n",
    "sns.boxplot(x=\"group\", y=\"weight\", data=data, ax=axes[0])\n",
    "axes[0].set_title(\"Boxplot of Weight by Group\")\n",
    "axes[0].set_xlabel(\"Group\")\n",
    "axes[0].set_ylabel(\"Weight\")\n",
    "\n",
    "# Histogram\n",
    "sns.histplot(data, x=\"weight\", hue=\"group\", kde=True, element=\"step\", ax=axes[1])\n",
    "axes[1].set_title(\"Histogram of Weight\")\n",
    "axes[1].set_xlabel(\"Weight\")\n",
    "axes[1].set_ylabel(\"Count\")\n",
    "\n",
    "# Scatter plot\n",
    "sns.scatterplot(x=\"rownames\", y=\"weight\", hue=\"group\", style=\"group\", data=data, ax=axes[2])\n",
    "axes[2].set_title(\"Scatter Plot of Weight by Row Index\")\n",
    "axes[2].set_xlabel(\"Row Index\")\n",
    "axes[2].set_ylabel(\"Weight\")\n",
    "\n",
    "# Show the plots\n",
    "plt.tight_layout()\n",
    "plt.show()"
   ]
  },
  {
   "cell_type": "markdown",
   "metadata": {},
   "source": [
    "#### 3. Describe what a t-test is, how it works, and what the assumptions are."
   ]
  },
  {
   "cell_type": "markdown",
   "metadata": {},
   "source": [
    "A t-test is a statistical method used to determine whether there is a significant difference between the means of two groups or between a sample mean and a known population mean. It is commonly used when working with small sample sizes and when the population standard deviation is unknown.  \n",
    "**Types of t-tests**  \n",
    "- One-sample t-test: Compares the mean of a single sample to a known or hypothesized population mean.  \n",
    "- Independent two-sample t-test: Compares the means of two independent groups to see if they are significantly different  \n",
    "- Paired-sample t-test: Compares the means of two related groups (e.g., pre-test and post-test scores).  \n",
    "**How it works**\n",
    "The t-test calculates a t-statistic, which reflects how far the observed sample mean (or difference between means) is from the null hypothesis in terms of standard error. It then compares this t-statistic to a critical value from the t-distribution.\n",
    "\n",
    "**Steps of the t-test:**\n",
    "1. State the null hypothesis  \n",
    "$Ho$:  There is no difference between the means.  \n",
    "and alternative hypothesis  \n",
    "$𝐻𝑎$: There is a significant difference.\n",
    "\n",
    "2. Calculate the test statistic:\n",
    "\n",
    "- For an independent two-sample t-test, the formula is: $t = \\frac{\\bar{X}_1 - \\bar{X}_2}{SE}$\n",
    "Where:  \n",
    "$\\bar{X}_1$ and $\\bar{X}_2$ are the sample means  \n",
    "SE is the standard error of the difference between means, which depends on sample sizes and standard deviations.\n",
    "\n",
    "- For a one-sample t-test, the formula is: $t = \\frac{\\bar{X} - \\mu}{s / \\sqrt{n}}$  \n",
    "Where $\\bar{X}$ is the sample mean,  \n",
    "μ is the population mean,  \n",
    "𝑠 is the sample standard deviation,  \n",
    "𝑛 is the sample size.  \n",
    "3. Determine the degrees of freedom (df):  \n",
    "- For a one-sample t-test: $𝑑𝑓=n−1$  \n",
    "- For independent two-sample t-test: 𝑑𝑓 depends on sample sizes and variance.  \n",
    "4. Compare the t-statistic to the critical t-value from the t-distribution based on the desired significance level (𝛼, typically 0.05) and the degrees of freedom.  \n",
    "5. Decision:  \n",
    "- If ∣𝑡∣ > 𝑡-critical, reject the null hypothesis.\n",
    "If ∣𝑡∣ ≤ 𝑡-critical, fail to reject the null hypothesis.  \n",
    "**Assumptions of the t-test**  \n",
    "For valid results, the t-test relies on the following assumptions:  \n",
    "1. Independence of observations: the data points within and between the groups should be independent of each other.  \n",
    "2. Normality:  \n",
    "- The data in each group should follow a roughly normal distribution.  \n",
    "- For small sample sizes (𝑛 < 30), this assumption is crucial.  \n",
    "- For larger sample sizes, the Central Limit Theorem allows the t-test to be robust to slight deviations from normality.  \n",
    "3. Equal variances (homogeneity of variance):  \n",
    "- For the independent two-sample t-test, the variances of the two groups should be approximately equal.  \n",
    "- If this assumption is violated, a variation of the test, known as Welch’s t-test, can be used.\n",
    "4. Scale of measurement: the dependent variable (outcome being measured) must be on an interval or ratio scale (quantitative data).  \n",
    "**Summary**  \n",
    "The t-test is a versatile statistical test used for comparing means. It works by calculating the t-statistic, which determines how extreme the observed difference is under the null hypothesis. To ensure valid conclusions, the assumptions of independence, normality, and equal variances (in some cases) must be met."
   ]
  },
  {
   "cell_type": "markdown",
   "metadata": {},
   "source": [
    "#### 4. Perform a t-test to determine whether there is a significant difference between the two treatment groups trt1 and trt2."
   ]
  },
  {
   "cell_type": "code",
   "execution_count": null,
   "metadata": {},
   "outputs": [],
   "source": [
    "# Filter the data for the two treatment groups\n",
    "trt1 = data[data['group'] == 'trt1']['weight']\n",
    "trt2 = data[data['group'] == 'trt2']['weight']\n",
    "\n",
    "# Perform an independent t-test\n",
    "\n",
    "t_statistic_scipy, p_value_scipy = stats.ttest_rel(trt1, trt2)\n",
    "\n",
    "# Output results\n",
    "t_statistic_scipy, p_value_scipy"
   ]
  },
  {
   "cell_type": "markdown",
   "metadata": {},
   "source": [
    "The result indicates that there is a significant difference between the two treatment groups, as the p-value is less than 0.05."
   ]
  },
  {
   "cell_type": "markdown",
   "metadata": {},
   "source": [
    "#### 5. Perform ANOVA to determine whether there is a significant difference between the three treatment groups ctrl, trt1, and trt2."
   ]
  },
  {
   "cell_type": "code",
   "execution_count": null,
   "metadata": {},
   "outputs": [],
   "source": [
    "# Filter data for each group\n",
    "ctrl = data[data['group'] == 'ctrl']['weight']\n",
    "trt1 = data[data['group'] == 'trt1']['weight']\n",
    "trt2 = data[data['group'] == 'trt2']['weight']\n",
    "\n",
    "# Perform one-way ANOVA\n",
    "f_stat, p_value = stats.f_oneway(ctrl, trt1, trt2)\n",
    "\n",
    "# Print results\n",
    "print(\"F-statistic:\", f_stat)\n",
    "print(\"p-value:\", p_value)"
   ]
  },
  {
   "cell_type": "markdown",
   "metadata": {},
   "source": [
    "The F-statistic measures the ratio of variance between the groups to the variance within the groups. In this case, an F-statistic of 4.85 suggests that the variability between the groups is relatively large compared to the variability within the groups.  \n",
    "The p-value of 0.0159 is less than the typical significance level (α=0.05).\n",
    "Since the p-value is less than 0.05, we reject the null hypothesis. This means that there is a statistically significant difference between at least one pair of the group means (ctrl, trt1, or trt2).\n",
    "Conclusion:\n",
    "There is sufficient evidence to conclude that at least one treatment group (control or treatments) has a mean that is significantly different from the others."
   ]
  },
  {
   "cell_type": "markdown",
   "metadata": {},
   "source": [
    "#### 6. Explain why it is more appropriate to apply ANOVA rather than several t-tests when analyzing more than two groups."
   ]
  },
  {
   "cell_type": "markdown",
   "metadata": {},
   "source": [
    "When analyzing more than two groups, it is generally more appropriate to use ANOVA (Analysis of Variance) instead of performing multiple t-tests for the following reasons:  \n",
    "1. Control of Type I Error Rate  \n",
    "- Each time a t-test is performed, there is a chance of making a Type I error (rejecting the null hypothesis when it is actually true). The probability of at least one Type I error increases as you perform more tests.  \n",
    "- For example, with a significance level (α) of 0.05, the chance of making at least one Type I error when comparing multiple pairs of groups grows quickly:  \n",
    "Overall Type I error = $1 - (1 - \\alpha)^k$  \n",
    "where 𝑘 is the number of tests. For 3 groups (comparing all pairs), you would need 3 t-tests, and the overall error would be larger than 0.05.  \n",
    "- ANOVA avoids this issue by testing all group means simultaneously under one overall null hypothesis:  \n",
    "$Ho$: All group means are equal.  \n",
    "and alternative hypothesis  \n",
    "$𝐻𝑎$: At least one group mean is different.  \n",
    "By using a single test, ANOVA controls the Type I error rate at the desired significance level.  \n",
    "2. Efficiency  \n",
    "- Performing multiple t-tests involves redundant comparisons and more calculations. ANOVA is a more efficient, streamlined way to analyze multiple groups in a single test.  \n",
    "- ANOVA provides a single overall F-statistic that determines whether group means are significantly different without requiring pairwise testing.  \n",
    "3. Interpretation of Results  \n",
    "- ANOVA provides a clear framework to test for overall differences among groups, rather than focusing on individual pairwise comparisons.  \n",
    "- If the ANOVA result is significant (rejecting the null hypothesis), post-hoc tests (e.g., Tukey's HSD or Bonferroni correction) can be used to identify which specific group means are different while still controlling for Type I error.\n",
    "4. Assumptions Are the Same  \n",
    "ANOVA and t-tests share similar assumptions:  \n",
    "- Independence of observations  \n",
    "- Normally distributed data within groups  \n",
    "- Equal variances among groups (homogeneity of variance)  \n",
    "**Conclusion**  \n",
    "Using ANOVA instead of multiple t-tests prevents the inflation of Type I error, improves computational efficiency, and simplifies interpretation. It tests for overall differences among groups in a single test and allows for follow-up comparisons (post-hoc tests) only if necessary. This makes ANOVA the preferred method when comparing more than two groups."
   ]
  }
 ],
 "metadata": {
  "kernelspec": {
   "display_name": "base",
   "language": "python",
   "name": "python3"
  },
  "language_info": {
   "codemirror_mode": {
    "name": "ipython",
    "version": 3
   },
   "file_extension": ".py",
   "mimetype": "text/x-python",
   "name": "python",
   "nbconvert_exporter": "python",
   "pygments_lexer": "ipython3",
   "version": "3.9.13"
  }
 },
 "nbformat": 4,
 "nbformat_minor": 2
}
